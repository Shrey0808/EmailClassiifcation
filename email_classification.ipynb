{
 "cells": [
  {
   "cell_type": "markdown",
   "id": "58236e6f",
   "metadata": {},
   "source": [
    "## DATA COLLECTION"
   ]
  },
  {
   "cell_type": "code",
   "execution_count": 419,
   "id": "26a22071",
   "metadata": {},
   "outputs": [],
   "source": [
    "with open('SMSSpamCollection.txt','r') as f:\n",
    "    email_ls = f.read()"
   ]
  },
  {
   "cell_type": "code",
   "execution_count": 420,
   "id": "329279e3",
   "metadata": {},
   "outputs": [],
   "source": [
    "email_ls = email_ls.split('\\n')"
   ]
  },
  {
   "cell_type": "code",
   "execution_count": 421,
   "id": "86e948b1",
   "metadata": {},
   "outputs": [],
   "source": [
    "x = []\n",
    "y = []\n",
    "for i in email_ls:\n",
    "    j = i.split('\\t')\n",
    "    if len(j)==2:\n",
    "        y.append(j[0])\n",
    "        x.append(j[1])"
   ]
  },
  {
   "cell_type": "markdown",
   "id": "742cd36b",
   "metadata": {},
   "source": [
    "## TEXT CLEANING"
   ]
  },
  {
   "cell_type": "code",
   "execution_count": 422,
   "id": "fd992b04",
   "metadata": {},
   "outputs": [],
   "source": [
    "for i in range(len(x)):\n",
    "    x[i] = re.sub('[^a-zA-z ]','',x[i]).lower()"
   ]
  },
  {
   "cell_type": "code",
   "execution_count": 423,
   "id": "e1a8b69f",
   "metadata": {},
   "outputs": [
    {
     "data": {
      "text/html": [
       "<div>\n",
       "<style scoped>\n",
       "    .dataframe tbody tr th:only-of-type {\n",
       "        vertical-align: middle;\n",
       "    }\n",
       "\n",
       "    .dataframe tbody tr th {\n",
       "        vertical-align: top;\n",
       "    }\n",
       "\n",
       "    .dataframe thead th {\n",
       "        text-align: right;\n",
       "    }\n",
       "</style>\n",
       "<table border=\"1\" class=\"dataframe\">\n",
       "  <thead>\n",
       "    <tr style=\"text-align: right;\">\n",
       "      <th></th>\n",
       "      <th>email_message</th>\n",
       "      <th>label</th>\n",
       "    </tr>\n",
       "  </thead>\n",
       "  <tbody>\n",
       "    <tr>\n",
       "      <th>0</th>\n",
       "      <td>go until jurong point crazy available only in ...</td>\n",
       "      <td>ham</td>\n",
       "    </tr>\n",
       "    <tr>\n",
       "      <th>1</th>\n",
       "      <td>ok lar joking wif u oni</td>\n",
       "      <td>ham</td>\n",
       "    </tr>\n",
       "    <tr>\n",
       "      <th>2</th>\n",
       "      <td>free entry in  a wkly comp to win fa cup final...</td>\n",
       "      <td>spam</td>\n",
       "    </tr>\n",
       "    <tr>\n",
       "      <th>3</th>\n",
       "      <td>u dun say so early hor u c already then say</td>\n",
       "      <td>ham</td>\n",
       "    </tr>\n",
       "    <tr>\n",
       "      <th>4</th>\n",
       "      <td>nah i dont think he goes to usf he lives aroun...</td>\n",
       "      <td>ham</td>\n",
       "    </tr>\n",
       "    <tr>\n",
       "      <th>...</th>\n",
       "      <td>...</td>\n",
       "      <td>...</td>\n",
       "    </tr>\n",
       "    <tr>\n",
       "      <th>5569</th>\n",
       "      <td>this is the nd time we have tried  contact u u...</td>\n",
       "      <td>spam</td>\n",
       "    </tr>\n",
       "    <tr>\n",
       "      <th>5570</th>\n",
       "      <td>will  b going to esplanade fr home</td>\n",
       "      <td>ham</td>\n",
       "    </tr>\n",
       "    <tr>\n",
       "      <th>5571</th>\n",
       "      <td>pity  was in mood for that soany other suggest...</td>\n",
       "      <td>ham</td>\n",
       "    </tr>\n",
       "    <tr>\n",
       "      <th>5572</th>\n",
       "      <td>the guy did some bitching but i acted like id ...</td>\n",
       "      <td>ham</td>\n",
       "    </tr>\n",
       "    <tr>\n",
       "      <th>5573</th>\n",
       "      <td>rofl its true to its name</td>\n",
       "      <td>ham</td>\n",
       "    </tr>\n",
       "  </tbody>\n",
       "</table>\n",
       "<p>5574 rows × 2 columns</p>\n",
       "</div>"
      ],
      "text/plain": [
       "                                          email_message label\n",
       "0     go until jurong point crazy available only in ...   ham\n",
       "1                               ok lar joking wif u oni   ham\n",
       "2     free entry in  a wkly comp to win fa cup final...  spam\n",
       "3           u dun say so early hor u c already then say   ham\n",
       "4     nah i dont think he goes to usf he lives aroun...   ham\n",
       "...                                                 ...   ...\n",
       "5569  this is the nd time we have tried  contact u u...  spam\n",
       "5570                 will  b going to esplanade fr home   ham\n",
       "5571  pity  was in mood for that soany other suggest...   ham\n",
       "5572  the guy did some bitching but i acted like id ...   ham\n",
       "5573                          rofl its true to its name   ham\n",
       "\n",
       "[5574 rows x 2 columns]"
      ]
     },
     "execution_count": 423,
     "metadata": {},
     "output_type": "execute_result"
    }
   ],
   "source": [
    "import pandas as pd\n",
    "dt = {\"email_message\":x,\"label\":y}\n",
    "df = pd.DataFrame(dt)\n",
    "df"
   ]
  },
  {
   "cell_type": "code",
   "execution_count": 424,
   "id": "3784aa42",
   "metadata": {},
   "outputs": [
    {
     "data": {
      "text/plain": [
       "label\n",
       "ham     4827\n",
       "spam     747\n",
       "dtype: int64"
      ]
     },
     "execution_count": 424,
     "metadata": {},
     "output_type": "execute_result"
    }
   ],
   "source": [
    "df.value_counts('label')"
   ]
  },
  {
   "cell_type": "raw",
   "id": "b8180798",
   "metadata": {},
   "source": [
    "# DATA IS IMBALANCED \n",
    "Methods to solve :\n",
    "1. Increase the no. of data points in spam\n",
    "2. Remove data points from ham"
   ]
  },
  {
   "cell_type": "code",
   "execution_count": 425,
   "id": "4c4c0ffb",
   "metadata": {},
   "outputs": [
    {
     "name": "stdout",
     "output_type": "stream",
     "text": [
      "Defaulting to user installation because normal site-packages is not writeable\n",
      "Requirement already satisfied: imblearn in c:\\users\\kiit\\appdata\\roaming\\python\\python39\\site-packages (0.0)\n",
      "Requirement already satisfied: imbalanced-learn in c:\\users\\kiit\\appdata\\roaming\\python\\python39\\site-packages (from imblearn) (0.12.3)\n",
      "Requirement already satisfied: joblib>=1.1.1 in c:\\users\\kiit\\appdata\\roaming\\python\\python39\\site-packages (from imbalanced-learn->imblearn) (1.4.2)\n",
      "Requirement already satisfied: threadpoolctl>=2.0.0 in c:\\programdata\\anaconda3\\lib\\site-packages (from imbalanced-learn->imblearn) (2.2.0)\n",
      "Requirement already satisfied: numpy>=1.17.3 in c:\\programdata\\anaconda3\\lib\\site-packages (from imbalanced-learn->imblearn) (1.21.5)\n",
      "Requirement already satisfied: scipy>=1.5.0 in c:\\programdata\\anaconda3\\lib\\site-packages (from imbalanced-learn->imblearn) (1.9.1)\n",
      "Requirement already satisfied: scikit-learn>=1.0.2 in c:\\programdata\\anaconda3\\lib\\site-packages (from imbalanced-learn->imblearn) (1.0.2)\n"
     ]
    }
   ],
   "source": [
    "!pip install imblearn"
   ]
  },
  {
   "cell_type": "code",
   "execution_count": 426,
   "id": "af6e3d94",
   "metadata": {},
   "outputs": [],
   "source": [
    "ham = df[df['label'] == 'ham']\n",
    "spam = df[df['label'] == 'spam']"
   ]
  },
  {
   "cell_type": "code",
   "execution_count": 427,
   "id": "3051895e",
   "metadata": {},
   "outputs": [],
   "source": [
    "# To decrease the no. of datapoints from ham\n",
    "# ham.sample(1000)"
   ]
  },
  {
   "cell_type": "code",
   "execution_count": 428,
   "id": "9a5a3571",
   "metadata": {},
   "outputs": [],
   "source": [
    "ham = ham.sample(1000)"
   ]
  },
  {
   "cell_type": "code",
   "execution_count": 429,
   "id": "8934a598",
   "metadata": {},
   "outputs": [],
   "source": [
    "balanced_df = pd.concat([ham,spam])"
   ]
  },
  {
   "cell_type": "code",
   "execution_count": 430,
   "id": "ed96f0f7",
   "metadata": {},
   "outputs": [
    {
     "data": {
      "text/plain": [
       "label\n",
       "ham     1000\n",
       "spam     747\n",
       "dtype: int64"
      ]
     },
     "execution_count": 430,
     "metadata": {},
     "output_type": "execute_result"
    }
   ],
   "source": [
    "balanced_df.value_counts('label')"
   ]
  },
  {
   "cell_type": "code",
   "execution_count": 431,
   "id": "e8b96a2b",
   "metadata": {},
   "outputs": [],
   "source": [
    "x = balanced_df['email_message']\n",
    "y = balanced_df['label']"
   ]
  },
  {
   "cell_type": "code",
   "execution_count": 432,
   "id": "dce960d3",
   "metadata": {},
   "outputs": [],
   "source": [
    "x = x.values"
   ]
  },
  {
   "cell_type": "code",
   "execution_count": 433,
   "id": "14cfb528",
   "metadata": {},
   "outputs": [],
   "source": [
    "from sklearn.feature_extraction.text import CountVectorizer , TfidfVectorizer"
   ]
  },
  {
   "cell_type": "code",
   "execution_count": 434,
   "id": "4be22fe0",
   "metadata": {},
   "outputs": [],
   "source": [
    "bow = CountVectorizer(max_features=1700 , stop_words='english') # BOW - Bag of Words"
   ]
  },
  {
   "cell_type": "code",
   "execution_count": 435,
   "id": "b4a9d4ec",
   "metadata": {},
   "outputs": [],
   "source": [
    "x = bow.fit_transform(x).toarray()"
   ]
  },
  {
   "cell_type": "code",
   "execution_count": 436,
   "id": "f7100ec9",
   "metadata": {},
   "outputs": [
    {
     "data": {
      "text/plain": [
       "(1747, 1700)"
      ]
     },
     "execution_count": 436,
     "metadata": {},
     "output_type": "execute_result"
    }
   ],
   "source": [
    "x.shape"
   ]
  },
  {
   "cell_type": "code",
   "execution_count": 437,
   "id": "80b4ad8d",
   "metadata": {},
   "outputs": [],
   "source": [
    "column_name = bow.get_feature_names_out()"
   ]
  },
  {
   "cell_type": "code",
   "execution_count": 438,
   "id": "6917ca5e",
   "metadata": {},
   "outputs": [],
   "source": [
    "testing = pd.DataFrame(x,columns = column_name)"
   ]
  },
  {
   "cell_type": "code",
   "execution_count": 439,
   "id": "1ea9518c",
   "metadata": {},
   "outputs": [
    {
     "data": {
      "text/html": [
       "<div>\n",
       "<style scoped>\n",
       "    .dataframe tbody tr th:only-of-type {\n",
       "        vertical-align: middle;\n",
       "    }\n",
       "\n",
       "    .dataframe tbody tr th {\n",
       "        vertical-align: top;\n",
       "    }\n",
       "\n",
       "    .dataframe thead th {\n",
       "        text-align: right;\n",
       "    }\n",
       "</style>\n",
       "<table border=\"1\" class=\"dataframe\">\n",
       "  <thead>\n",
       "    <tr style=\"text-align: right;\">\n",
       "      <th></th>\n",
       "      <th>able</th>\n",
       "      <th>abt</th>\n",
       "      <th>abta</th>\n",
       "      <th>ac</th>\n",
       "      <th>access</th>\n",
       "      <th>account</th>\n",
       "      <th>action</th>\n",
       "      <th>activate</th>\n",
       "      <th>actually</th>\n",
       "      <th>added</th>\n",
       "      <th>...</th>\n",
       "      <th>yest</th>\n",
       "      <th>yesterday</th>\n",
       "      <th>yo</th>\n",
       "      <th>youd</th>\n",
       "      <th>youre</th>\n",
       "      <th>youve</th>\n",
       "      <th>yr</th>\n",
       "      <th>yrs</th>\n",
       "      <th>yup</th>\n",
       "      <th>zed</th>\n",
       "    </tr>\n",
       "  </thead>\n",
       "  <tbody>\n",
       "    <tr>\n",
       "      <th>0</th>\n",
       "      <td>0</td>\n",
       "      <td>0</td>\n",
       "      <td>0</td>\n",
       "      <td>0</td>\n",
       "      <td>0</td>\n",
       "      <td>0</td>\n",
       "      <td>0</td>\n",
       "      <td>0</td>\n",
       "      <td>0</td>\n",
       "      <td>0</td>\n",
       "      <td>...</td>\n",
       "      <td>0</td>\n",
       "      <td>0</td>\n",
       "      <td>0</td>\n",
       "      <td>0</td>\n",
       "      <td>0</td>\n",
       "      <td>0</td>\n",
       "      <td>0</td>\n",
       "      <td>0</td>\n",
       "      <td>0</td>\n",
       "      <td>0</td>\n",
       "    </tr>\n",
       "    <tr>\n",
       "      <th>1</th>\n",
       "      <td>0</td>\n",
       "      <td>0</td>\n",
       "      <td>0</td>\n",
       "      <td>0</td>\n",
       "      <td>0</td>\n",
       "      <td>0</td>\n",
       "      <td>0</td>\n",
       "      <td>0</td>\n",
       "      <td>0</td>\n",
       "      <td>0</td>\n",
       "      <td>...</td>\n",
       "      <td>0</td>\n",
       "      <td>0</td>\n",
       "      <td>0</td>\n",
       "      <td>0</td>\n",
       "      <td>0</td>\n",
       "      <td>0</td>\n",
       "      <td>0</td>\n",
       "      <td>0</td>\n",
       "      <td>0</td>\n",
       "      <td>0</td>\n",
       "    </tr>\n",
       "    <tr>\n",
       "      <th>2</th>\n",
       "      <td>0</td>\n",
       "      <td>0</td>\n",
       "      <td>0</td>\n",
       "      <td>0</td>\n",
       "      <td>0</td>\n",
       "      <td>0</td>\n",
       "      <td>0</td>\n",
       "      <td>0</td>\n",
       "      <td>0</td>\n",
       "      <td>0</td>\n",
       "      <td>...</td>\n",
       "      <td>0</td>\n",
       "      <td>0</td>\n",
       "      <td>0</td>\n",
       "      <td>0</td>\n",
       "      <td>0</td>\n",
       "      <td>0</td>\n",
       "      <td>0</td>\n",
       "      <td>0</td>\n",
       "      <td>0</td>\n",
       "      <td>0</td>\n",
       "    </tr>\n",
       "    <tr>\n",
       "      <th>3</th>\n",
       "      <td>0</td>\n",
       "      <td>0</td>\n",
       "      <td>0</td>\n",
       "      <td>0</td>\n",
       "      <td>0</td>\n",
       "      <td>0</td>\n",
       "      <td>0</td>\n",
       "      <td>0</td>\n",
       "      <td>0</td>\n",
       "      <td>0</td>\n",
       "      <td>...</td>\n",
       "      <td>0</td>\n",
       "      <td>0</td>\n",
       "      <td>0</td>\n",
       "      <td>0</td>\n",
       "      <td>0</td>\n",
       "      <td>0</td>\n",
       "      <td>0</td>\n",
       "      <td>0</td>\n",
       "      <td>0</td>\n",
       "      <td>0</td>\n",
       "    </tr>\n",
       "    <tr>\n",
       "      <th>4</th>\n",
       "      <td>0</td>\n",
       "      <td>0</td>\n",
       "      <td>0</td>\n",
       "      <td>0</td>\n",
       "      <td>0</td>\n",
       "      <td>0</td>\n",
       "      <td>0</td>\n",
       "      <td>0</td>\n",
       "      <td>0</td>\n",
       "      <td>0</td>\n",
       "      <td>...</td>\n",
       "      <td>0</td>\n",
       "      <td>0</td>\n",
       "      <td>0</td>\n",
       "      <td>0</td>\n",
       "      <td>0</td>\n",
       "      <td>0</td>\n",
       "      <td>0</td>\n",
       "      <td>0</td>\n",
       "      <td>0</td>\n",
       "      <td>0</td>\n",
       "    </tr>\n",
       "    <tr>\n",
       "      <th>...</th>\n",
       "      <td>...</td>\n",
       "      <td>...</td>\n",
       "      <td>...</td>\n",
       "      <td>...</td>\n",
       "      <td>...</td>\n",
       "      <td>...</td>\n",
       "      <td>...</td>\n",
       "      <td>...</td>\n",
       "      <td>...</td>\n",
       "      <td>...</td>\n",
       "      <td>...</td>\n",
       "      <td>...</td>\n",
       "      <td>...</td>\n",
       "      <td>...</td>\n",
       "      <td>...</td>\n",
       "      <td>...</td>\n",
       "      <td>...</td>\n",
       "      <td>...</td>\n",
       "      <td>...</td>\n",
       "      <td>...</td>\n",
       "      <td>...</td>\n",
       "    </tr>\n",
       "    <tr>\n",
       "      <th>1742</th>\n",
       "      <td>0</td>\n",
       "      <td>0</td>\n",
       "      <td>0</td>\n",
       "      <td>0</td>\n",
       "      <td>0</td>\n",
       "      <td>0</td>\n",
       "      <td>0</td>\n",
       "      <td>0</td>\n",
       "      <td>0</td>\n",
       "      <td>0</td>\n",
       "      <td>...</td>\n",
       "      <td>0</td>\n",
       "      <td>0</td>\n",
       "      <td>0</td>\n",
       "      <td>0</td>\n",
       "      <td>0</td>\n",
       "      <td>0</td>\n",
       "      <td>0</td>\n",
       "      <td>0</td>\n",
       "      <td>0</td>\n",
       "      <td>0</td>\n",
       "    </tr>\n",
       "    <tr>\n",
       "      <th>1743</th>\n",
       "      <td>0</td>\n",
       "      <td>0</td>\n",
       "      <td>0</td>\n",
       "      <td>0</td>\n",
       "      <td>0</td>\n",
       "      <td>0</td>\n",
       "      <td>0</td>\n",
       "      <td>0</td>\n",
       "      <td>0</td>\n",
       "      <td>0</td>\n",
       "      <td>...</td>\n",
       "      <td>0</td>\n",
       "      <td>0</td>\n",
       "      <td>0</td>\n",
       "      <td>0</td>\n",
       "      <td>0</td>\n",
       "      <td>0</td>\n",
       "      <td>0</td>\n",
       "      <td>0</td>\n",
       "      <td>0</td>\n",
       "      <td>0</td>\n",
       "    </tr>\n",
       "    <tr>\n",
       "      <th>1744</th>\n",
       "      <td>0</td>\n",
       "      <td>0</td>\n",
       "      <td>0</td>\n",
       "      <td>0</td>\n",
       "      <td>0</td>\n",
       "      <td>0</td>\n",
       "      <td>0</td>\n",
       "      <td>0</td>\n",
       "      <td>0</td>\n",
       "      <td>0</td>\n",
       "      <td>...</td>\n",
       "      <td>0</td>\n",
       "      <td>0</td>\n",
       "      <td>0</td>\n",
       "      <td>0</td>\n",
       "      <td>0</td>\n",
       "      <td>0</td>\n",
       "      <td>0</td>\n",
       "      <td>0</td>\n",
       "      <td>0</td>\n",
       "      <td>0</td>\n",
       "    </tr>\n",
       "    <tr>\n",
       "      <th>1745</th>\n",
       "      <td>0</td>\n",
       "      <td>0</td>\n",
       "      <td>0</td>\n",
       "      <td>0</td>\n",
       "      <td>0</td>\n",
       "      <td>0</td>\n",
       "      <td>0</td>\n",
       "      <td>0</td>\n",
       "      <td>0</td>\n",
       "      <td>0</td>\n",
       "      <td>...</td>\n",
       "      <td>0</td>\n",
       "      <td>0</td>\n",
       "      <td>0</td>\n",
       "      <td>0</td>\n",
       "      <td>0</td>\n",
       "      <td>0</td>\n",
       "      <td>0</td>\n",
       "      <td>0</td>\n",
       "      <td>0</td>\n",
       "      <td>0</td>\n",
       "    </tr>\n",
       "    <tr>\n",
       "      <th>1746</th>\n",
       "      <td>0</td>\n",
       "      <td>0</td>\n",
       "      <td>0</td>\n",
       "      <td>0</td>\n",
       "      <td>0</td>\n",
       "      <td>0</td>\n",
       "      <td>0</td>\n",
       "      <td>0</td>\n",
       "      <td>0</td>\n",
       "      <td>0</td>\n",
       "      <td>...</td>\n",
       "      <td>0</td>\n",
       "      <td>0</td>\n",
       "      <td>0</td>\n",
       "      <td>0</td>\n",
       "      <td>0</td>\n",
       "      <td>0</td>\n",
       "      <td>0</td>\n",
       "      <td>0</td>\n",
       "      <td>0</td>\n",
       "      <td>0</td>\n",
       "    </tr>\n",
       "  </tbody>\n",
       "</table>\n",
       "<p>1747 rows × 1700 columns</p>\n",
       "</div>"
      ],
      "text/plain": [
       "      able  abt  abta  ac  access  account  action  activate  actually  added  \\\n",
       "0        0    0     0   0       0        0       0         0         0      0   \n",
       "1        0    0     0   0       0        0       0         0         0      0   \n",
       "2        0    0     0   0       0        0       0         0         0      0   \n",
       "3        0    0     0   0       0        0       0         0         0      0   \n",
       "4        0    0     0   0       0        0       0         0         0      0   \n",
       "...    ...  ...   ...  ..     ...      ...     ...       ...       ...    ...   \n",
       "1742     0    0     0   0       0        0       0         0         0      0   \n",
       "1743     0    0     0   0       0        0       0         0         0      0   \n",
       "1744     0    0     0   0       0        0       0         0         0      0   \n",
       "1745     0    0     0   0       0        0       0         0         0      0   \n",
       "1746     0    0     0   0       0        0       0         0         0      0   \n",
       "\n",
       "      ...  yest  yesterday  yo  youd  youre  youve  yr  yrs  yup  zed  \n",
       "0     ...     0          0   0     0      0      0   0    0    0    0  \n",
       "1     ...     0          0   0     0      0      0   0    0    0    0  \n",
       "2     ...     0          0   0     0      0      0   0    0    0    0  \n",
       "3     ...     0          0   0     0      0      0   0    0    0    0  \n",
       "4     ...     0          0   0     0      0      0   0    0    0    0  \n",
       "...   ...   ...        ...  ..   ...    ...    ...  ..  ...  ...  ...  \n",
       "1742  ...     0          0   0     0      0      0   0    0    0    0  \n",
       "1743  ...     0          0   0     0      0      0   0    0    0    0  \n",
       "1744  ...     0          0   0     0      0      0   0    0    0    0  \n",
       "1745  ...     0          0   0     0      0      0   0    0    0    0  \n",
       "1746  ...     0          0   0     0      0      0   0    0    0    0  \n",
       "\n",
       "[1747 rows x 1700 columns]"
      ]
     },
     "execution_count": 439,
     "metadata": {},
     "output_type": "execute_result"
    }
   ],
   "source": [
    "testing"
   ]
  },
  {
   "cell_type": "code",
   "execution_count": 440,
   "id": "c73424d7",
   "metadata": {},
   "outputs": [],
   "source": [
    "y = y.map({'ham':0 , 'spam' : 1})"
   ]
  },
  {
   "cell_type": "code",
   "execution_count": 441,
   "id": "3f5a1293",
   "metadata": {},
   "outputs": [],
   "source": [
    "import numpy as np"
   ]
  },
  {
   "cell_type": "code",
   "execution_count": 442,
   "id": "ae6604c2",
   "metadata": {},
   "outputs": [],
   "source": [
    "y = np.array(y)"
   ]
  },
  {
   "cell_type": "code",
   "execution_count": 443,
   "id": "b4fa38e2",
   "metadata": {},
   "outputs": [],
   "source": [
    "from sklearn.model_selection import train_test_split"
   ]
  },
  {
   "cell_type": "code",
   "execution_count": 444,
   "id": "8f6775a6",
   "metadata": {},
   "outputs": [],
   "source": [
    "x_train , x_test , y_train , y_test = train_test_split(x,y,test_size=0.15)"
   ]
  },
  {
   "cell_type": "code",
   "execution_count": 445,
   "id": "a655e960",
   "metadata": {},
   "outputs": [],
   "source": [
    "from sklearn.naive_bayes import MultinomialNB , BernoulliNB"
   ]
  },
  {
   "cell_type": "code",
   "execution_count": 446,
   "id": "bb5198f8",
   "metadata": {},
   "outputs": [],
   "source": [
    "mb = MultinomialNB()\n",
    "bnb = BernoulliNB()"
   ]
  },
  {
   "cell_type": "code",
   "execution_count": 447,
   "id": "5596dbba",
   "metadata": {},
   "outputs": [
    {
     "data": {
      "text/plain": [
       "MultinomialNB()"
      ]
     },
     "execution_count": 447,
     "metadata": {},
     "output_type": "execute_result"
    }
   ],
   "source": [
    "mb.fit(x_train , y_train)"
   ]
  },
  {
   "cell_type": "code",
   "execution_count": 448,
   "id": "55be48e9",
   "metadata": {},
   "outputs": [
    {
     "data": {
      "text/plain": [
       "BernoulliNB()"
      ]
     },
     "execution_count": 448,
     "metadata": {},
     "output_type": "execute_result"
    }
   ],
   "source": [
    "bnb.fit(x_train , y_train)"
   ]
  },
  {
   "cell_type": "code",
   "execution_count": 449,
   "id": "bec52303",
   "metadata": {},
   "outputs": [
    {
     "name": "stdout",
     "output_type": "stream",
     "text": [
      "For Multinomial Naive Bayes\n",
      "Training Score: 97.04 %\n",
      "Training Score: 94.3 %\n",
      "\n",
      "For BernoulliNB Naive Bayes\n",
      "Training Score: 95.62 %\n",
      "Training Score: 95.06 %\n"
     ]
    }
   ],
   "source": [
    "print(\"For Multinomial Naive Bayes\")\n",
    "print('Training Score:',round(mb.score(x_train , y_train),4)*100,'%')\n",
    "print('Training Score:',round(mb.score(x_test , y_test),4)*100,'%\\n')\n",
    "print(\"For BernoulliNB Naive Bayes\")\n",
    "print('Training Score:',round(bnb.score(x_train , y_train),4)*100,'%')\n",
    "print('Training Score:',round(bnb.score(x_test , y_test),4)*100,'%')"
   ]
  },
  {
   "cell_type": "code",
   "execution_count": 450,
   "id": "3dc95ece",
   "metadata": {},
   "outputs": [],
   "source": [
    "# Logistic Regression \n",
    "# Decision Tree Classifier\n",
    "# Random Forest Classifier"
   ]
  },
  {
   "cell_type": "raw",
   "id": "caca070f",
   "metadata": {},
   "source": [
    "# NAIVE BAYES ALGORITH WORKS THE BEST ON HIGH DIMENSIONAL DATA (Here the num of columns was 1700!)"
   ]
  },
  {
   "cell_type": "code",
   "execution_count": 453,
   "id": "2e984d8b",
   "metadata": {},
   "outputs": [],
   "source": [
    "import joblib"
   ]
  },
  {
   "cell_type": "code",
   "execution_count": 455,
   "id": "275c917b",
   "metadata": {},
   "outputs": [
    {
     "data": {
      "text/plain": [
       "['countvectorizer.lb']"
      ]
     },
     "execution_count": 455,
     "metadata": {},
     "output_type": "execute_result"
    }
   ],
   "source": [
    "joblib.dump(bnb,'BNB_Model.lb')\n",
    "joblib.dump(bow,'countvectorizer.lb')"
   ]
  },
  {
   "cell_type": "code",
   "execution_count": 456,
   "id": "7ea2e888",
   "metadata": {},
   "outputs": [],
   "source": [
    "prediction = bnb.predict(x_test)"
   ]
  },
  {
   "cell_type": "code",
   "execution_count": 461,
   "id": "ebe9928b",
   "metadata": {},
   "outputs": [],
   "source": [
    "from sklearn.metrics import confusion_matrix"
   ]
  },
  {
   "cell_type": "code",
   "execution_count": 464,
   "id": "6b7cb4cb",
   "metadata": {},
   "outputs": [
    {
     "data": {
      "text/plain": [
       "array([[159,   0],\n",
       "       [ 13,  91]], dtype=int64)"
      ]
     },
     "execution_count": 464,
     "metadata": {},
     "output_type": "execute_result"
    }
   ],
   "source": [
    "cf = confusion_matrix(y_test, prediction)\n",
    "cf"
   ]
  },
  {
   "cell_type": "code",
   "execution_count": 467,
   "id": "47d02352",
   "metadata": {},
   "outputs": [
    {
     "data": {
      "image/png": "[encoded data removed]",
      "text/plain": [
       "<Figure size 640x480 with 2 Axes>"
      ]
     },
     "metadata": {},
     "output_type": "display_data"
    }
   ],
   "source": [
    "import seaborn as sns\n",
    "import matplotlib.pyplot as plt\n",
    "sns.heatmap(cf)\n",
    "plt.show()"
   ]
  },
  {
   "cell_type": "code",
   "execution_count": null,
   "id": "5900c9b6",
   "metadata": {},
   "outputs": [],
   "source": []
  },
  {
   "cell_type": "code",
   "execution_count": null,
   "id": "d3d4b846",
   "metadata": {},
   "outputs": [],
   "source": []
  }
 ],
 "metadata": {
  "kernelspec": {
   "display_name": "Python 3 (ipykernel)",
   "language": "python",
   "name": "python3"
  },
  "language_info": {
   "codemirror_mode": {
    "name": "ipython",
    "version": 3
   },
   "file_extension": ".py",
   "mimetype": "text/x-python",
   "name": "python",
   "nbconvert_exporter": "python",
   "pygments_lexer": "ipython3",
   "version": "3.9.13"
  }
 },
 "nbformat": 4,
 "nbformat_minor": 5
}
